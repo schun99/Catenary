{
 "cells": [
  {
   "cell_type": "markdown",
   "metadata": {},
   "source": [
    "# Project Report 4: Diffusion-Limited Aggregation\n",
    "## Author: Sophie Chun\n",
    "### Date: Apr 20, 2020\n",
    "### Other group members: N/A\n",
    "The objective of this project to simulate diffusion limited aggregation (DLA). "
   ]
  },
  {
   "cell_type": "markdown",
   "metadata": {},
   "source": [
    "### Introduction\n",
    "Diffusion-limited aggregation (DLA) is the process when the particles undergo a random walk due to Brownian motion and cluster together to form an aggregation of the particles. It is a *diffusion process* since the particles randomly wander around before getting attached, *aggregated*, to the cluster. It is also *diffusion-limited* since the particles do not attach each other and rather attach to the cluster one particle at a time. DLA cluster model can be observed in many natural systems such as electrodeposition, the path taken by lightening, growth of some crystals, and snowflake.\n",
    "\n",
    "### Model considerations\n",
    "Simulating DLA involves the most important feature of the nature, stochasticity. The particle is initially displaced at an infinite distance away from the structure. They keep moving randomly until it finds the structure, collides, and cluster to it. Once the it forms an aggregation with the structure, it is settled and no longer moves around. This procedure repeats itself over and over until all the particles are successfully aggregated.\n",
    "\n",
    "To avoid excessive exception checks, a certain size of lattice is created, where the particles can move around. The seed (first particle of the structure) is always centered at the lattice. The particle is created at random position on the circle whose radius is slightly bigger than the maximum structure radius, assuming that the structure is in a shape of circle.\n",
    "\n",
    "The model is a stochastic and dynamic model as the focus of this project is on the evolution of the aggregation that are created by randomly walking particles."
   ]
  },
  {
   "cell_type": "markdown",
   "metadata": {},
   "source": [
    "### Model Implementation\n",
    "Model implementation involves several steps to minimize the errors: initialzing the parameters, checking for initial exceptions, introducing functions start_walker and run_walker, and several verification steps to ensure that the code works and simulate DLA with various parameters.\n",
    "\n",
    "#### Initialization of Parameters and Function"
   ]
  },
  {
   "cell_type": "code",
   "execution_count": 16,
   "metadata": {},
   "outputs": [],
   "source": [
    "import numpy as np\n",
    "import numpy.random as nprnd\n",
    "import matplotlib.pyplot as plt\n",
    "from html_movie import movie"
   ]
  },
  {
   "cell_type": "code",
   "execution_count": 17,
   "metadata": {},
   "outputs": [],
   "source": [
    "N_walkers = 100                   # how many walkers in a cluster\n",
    "L = 100                           # lattice size\n",
    "lattice = np.zeros((L,L))         # the lattice itself\n",
    "cluster_maxrad = 23               # maximum cluster radius\n",
    "lattice[int(L/2), int(L/2)] = 1   # seeding the DLA cluster\n",
    "file_name = \"{:03d}_movie.jpg\"    # saving jpg"
   ]
  },
  {
   "cell_type": "markdown",
   "metadata": {},
   "source": [
    "#### Initial Exception Check"
   ]
  },
  {
   "cell_type": "code",
   "execution_count": 18,
   "metadata": {},
   "outputs": [],
   "source": [
    "ErrVal = 0 # to keep track of whether any error is encountered or not, initial value \n",
    "\n",
    "if N_walkers <= 0 :\n",
    "    print(\"N_walkers value is invalid. Number of particles must be a positive value.\")\n",
    "    ErrVal = 1;\n",
    "elif L <= 0:\n",
    "    print(\"L value is invalid. The size of the lattice should be a positive value.\")\n",
    "    ErrVal = 1;\n",
    "elif cluster_maxrad >= (L/2):\n",
    "    print(\"cluster_maxrad is invalid. Cluster's maximum radius should less than the half of the lattice size.\")\n",
    "    ErrVal = 1;\n",
    "else:\n",
    "    ErrVal = 0;"
   ]
  },
  {
   "cell_type": "markdown",
   "metadata": {},
   "source": [
    "#### Random Walk\n",
    "Random walk is consisted up with two functions, start_walker and run_walker. The first function start_walker returns the initial position of the particle. It is constrained to be placed on the imaginary circle that has a slightly bigger radius than the maximum cluster radius. The second function run_walker returns the lattice after all the particles meet the structure and form an aggregation. The particle can move only in one direction among four - up, down, left, and right. If the particle tries to exit the circle when it is first released, then the function stops and run over until it finds the particle getting closer to the structure. Also, if the particle tries to move out of the lattice, then the function again stops and runs over."
   ]
  },
  {
   "cell_type": "code",
   "execution_count": 21,
   "metadata": {},
   "outputs": [],
   "source": [
    "# This function returns the initial position of the particle.\n",
    "def start_walker(lattice, cluster_maxrad):\n",
    "    L = lattice.shape[0]           # lattice size\n",
    "    r = 1 + cluster_maxrad         # radius of the imaginary circle where the particle can be created\n",
    "    theta = nprnd.random()*2*np.pi # random angle\n",
    "    x = int(r*np.cos(theta)+L/2)   # x coordinate\n",
    "    y = int(r*np.sin(theta)+L/2)   # y coordinate\n",
    "    return(x,y)"
   ]
  },
  {
   "cell_type": "code",
   "execution_count": 22,
   "metadata": {},
   "outputs": [],
   "source": [
    "# This function returns the lattice when the particle meets the structure and forms an aggregation.\n",
    "def run_walker(lattice, cluster_maxrad):\n",
    "    x, y = start_walker(lattice, cluster_maxrad)\n",
    "    while(True):\n",
    "        # This while loop is executed until the particle meets the cluster around itself.\n",
    "        while(True):\n",
    "            # This while loop creates dx and dy that satisfies the condition.\n",
    "            # resultant x and y should not touch the edge of the lattice.\n",
    "            directions = np.floor(nprnd.random(1)*4)\n",
    "            dx = (directions == 0) - 1.0*(directions == 1)\n",
    "            dy = (directions == 2) - 1.0*(directions == 3)\n",
    "            if(1 < (x + int(dx)) and (x + int(dx)) < (L-1) and 1 < (y + int(dy)) and (y + int(dy)) < (L-1) ):\n",
    "                x = x + int(dx)\n",
    "                y = y + int(dy)\n",
    "                break\n",
    "        neighbors_cluster = lattice[x,y+1] + lattice[x,y-1] + lattice[x+1,y] + lattice[x-1,y]\n",
    "        if(neighbors_cluster > 0):\n",
    "            lattice[x,y] = 1\n",
    "            break\n",
    "    return(lattice)"
   ]
  },
  {
   "cell_type": "markdown",
   "metadata": {},
   "source": [
    "#### Animation and the Final Cluster\n",
    "Below, the final cluster is shown, and the animation for every attachment events is also created. Because of the execution time, the cluster size is left to be small."
   ]
  },
  {
   "cell_type": "code",
   "execution_count": 24,
   "metadata": {},
   "outputs": [
    {
     "name": "stdout",
     "output_type": "stream",
     "text": [
      "Attached walker No. 0\n",
      "Attached walker No. 10\n",
      "Attached walker No. 20\n",
      "Attached walker No. 30\n",
      "Attached walker No. 40\n",
      "Attached walker No. 50\n",
      "Attached walker No. 60\n",
      "Attached walker No. 70\n",
      "Attached walker No. 80\n",
      "Attached walker No. 90\n",
      "\n",
      "\n",
      "\n",
      "Found 100 files of the format *.jpg.\n",
      "\n",
      "Making HTML code for displaying 000_movie.jpg, 001_movie.jpg, 002_movie.jpg, 003_movie.jpg, 004_movie.jpg, 005_movie.jpg, 006_movie.jpg, 007_movie.jpg, 008_movie.jpg, 009_movie.jpg, 010_movie.jpg, 011_movie.jpg, 012_movie.jpg, 013_movie.jpg, 014_movie.jpg, 015_movie.jpg, 016_movie.jpg, 017_movie.jpg, 018_movie.jpg, 019_movie.jpg, 020_movie.jpg, 021_movie.jpg, 022_movie.jpg, 023_movie.jpg, 024_movie.jpg, 025_movie.jpg, 026_movie.jpg, 027_movie.jpg, 028_movie.jpg, 029_movie.jpg, 030_movie.jpg, 031_movie.jpg, 032_movie.jpg, 033_movie.jpg, 034_movie.jpg, 035_movie.jpg, 036_movie.jpg, 037_movie.jpg, 038_movie.jpg, 039_movie.jpg, 040_movie.jpg, 041_movie.jpg, 042_movie.jpg, 043_movie.jpg, 044_movie.jpg, 045_movie.jpg, 046_movie.jpg, 047_movie.jpg, 048_movie.jpg, 049_movie.jpg, 050_movie.jpg, 051_movie.jpg, 052_movie.jpg, 053_movie.jpg, 054_movie.jpg, 055_movie.jpg, 056_movie.jpg, 057_movie.jpg, 058_movie.jpg, 059_movie.jpg, 060_movie.jpg, 061_movie.jpg, 062_movie.jpg, 063_movie.jpg, 064_movie.jpg, 065_movie.jpg, 066_movie.jpg, 067_movie.jpg, 068_movie.jpg, 069_movie.jpg, 070_movie.jpg, 071_movie.jpg, 072_movie.jpg, 073_movie.jpg, 074_movie.jpg, 075_movie.jpg, 076_movie.jpg, 077_movie.jpg, 078_movie.jpg, 079_movie.jpg, 080_movie.jpg, 081_movie.jpg, 082_movie.jpg, 083_movie.jpg, 084_movie.jpg, 085_movie.jpg, 086_movie.jpg, 087_movie.jpg, 088_movie.jpg, 089_movie.jpg, 090_movie.jpg, 091_movie.jpg, 092_movie.jpg, 093_movie.jpg, 094_movie.jpg, 095_movie.jpg, 096_movie.jpg, 097_movie.jpg, 098_movie.jpg, 099_movie.jpg\n",
      "\n",
      "\n",
      "movie in output file movie.html\n"
     ]
    },
    {
     "data": {
      "image/png": "[encoded data removed]",
      "text/plain": [
       "<Figure size 360x360 with 1 Axes>"
      ]
     },
     "metadata": {
      "needs_background": "light"
     },
     "output_type": "display_data"
    }
   ],
   "source": [
    "# release N_walkers walkers and build the DLA cluster on the lattice. \n",
    "fig = plt.figure(figsize=(5,5))\n",
    "ax  = plt.axes(xlim=(0, L), ylim=(0, L))\n",
    "\n",
    "for i in np.arange(N_walkers):\n",
    "    lattice = run_walker(lattice, cluster_maxrad)\n",
    "    if (np.round(i/10)==i/10):                  # signal attachment of every 10th walker\n",
    "        print('Attached walker No. '+str(i))    # we do this to monitor progress\n",
    "    plt.imshow(lattice, cmap='gray',  interpolation='nearest')\n",
    "    plt.savefig(file_name.format(i))\n",
    "\n",
    "movie(input_files='*.jpg', output_file='movie.html') # create a html file that the animation can be played\n",
    "\n",
    "# now we show the final cluster lattice\n",
    "plt.imshow(lattice, cmap='gray',  interpolation='nearest')\n",
    "plt.title('DLA cluster')\n",
    "plt.show()"
   ]
  },
  {
   "cell_type": "markdown",
   "metadata": {},
   "source": [
    "#### DLA Observation"
   ]
  },
  {
   "cell_type": "code",
   "execution_count": 77,
   "metadata": {},
   "outputs": [
    {
     "name": "stdout",
     "output_type": "stream",
     "text": [
      "Attached walker No. 0\n",
      "Attached walker No. 100\n",
      "Attached walker No. 200\n",
      "Attached walker No. 300\n",
      "Attached walker No. 400\n",
      "Attached walker No. 500\n",
      "Attached walker No. 600\n",
      "Attached walker No. 700\n",
      "Attached walker No. 800\n",
      "Attached walker No. 900\n",
      "Attached walker No. 1000\n",
      "Attached walker No. 1100\n",
      "Attached walker No. 1200\n",
      "Attached walker No. 1300\n",
      "Attached walker No. 1400\n",
      "Attached walker No. 1500\n",
      "Attached walker No. 1600\n",
      "Attached walker No. 1700\n",
      "Attached walker No. 1800\n",
      "Attached walker No. 1900\n"
     ]
    },
    {
     "data": {
      "image/png": "[encoded data removed]",
      "text/plain": [
       "<Figure size 432x288 with 1 Axes>"
      ]
     },
     "metadata": {
      "needs_background": "light"
     },
     "output_type": "display_data"
    }
   ],
   "source": [
    "N_walkers = 2000                  # how many walkers in a cluster\n",
    "L = 150                           # lattice size\n",
    "lattice = np.zeros((L,L))         # the lattice itself\n",
    "cluster_maxrad = 70               # maximum cluster radius\n",
    "lattice[int(L/2), int(L/2)] = 1   # seeding the DLA cluster\n",
    "\n",
    "for i in np.arange(N_walkers):\n",
    "    lattice = run_walker(lattice, cluster_maxrad)\n",
    "    if (np.round(i/100)==i/100):\n",
    "        print('Attached walker No. '+str(i))\n",
    "\n",
    "plt.imshow(lattice, cmap='gray',  interpolation='nearest')\n",
    "plt.title('DLA cluster')\n",
    "plt.show()"
   ]
  },
  {
   "cell_type": "markdown",
   "metadata": {},
   "source": [
    "### Model Verification\n",
    "\n",
    "**1. When the cluster size is small vs large** <br>\n",
    "Cluster is assumed to be in a shape of circle that is centered at the lattice. The particles are limited to be created near the cluster, from the imaginary circle that is slightly bigger than the maximum size of the cluster. If the final cluster size is small, then the time taken for the random particle to meet the cluster would be shorter. On the other hand, if the final cluster size is large, then the time taken for the random particle to meet the cluster would be longer. These two cases are verified below."
   ]
  },
  {
   "cell_type": "code",
   "execution_count": 58,
   "metadata": {},
   "outputs": [],
   "source": [
    "import time"
   ]
  },
  {
   "cell_type": "code",
   "execution_count": 59,
   "metadata": {
    "scrolled": false
   },
   "outputs": [
    {
     "name": "stdout",
     "output_type": "stream",
     "text": [
      "Attached walker No. 0\n",
      "Attached walker No. 10\n",
      "Attached walker No. 20\n",
      "Attached walker No. 30\n",
      "Attached walker No. 40\n"
     ]
    },
    {
     "data": {
      "image/png": "[encoded data removed]",
      "text/plain": [
       "<Figure size 432x288 with 1 Axes>"
      ]
     },
     "metadata": {
      "needs_background": "light"
     },
     "output_type": "display_data"
    },
    {
     "name": "stdout",
     "output_type": "stream",
     "text": [
      "Time taken to simulate:  1.6622490882873535 seconds.\n"
     ]
    }
   ],
   "source": [
    "N_walkers = 50                    # how many walkers in a cluster\n",
    "L = 100                           # lattice size\n",
    "lattice = np.zeros((L,L))         # the lattice itself\n",
    "cluster_maxrad = 5                # maximum cluster radius\n",
    "lattice[int(L/2), int(L/2)] = 1   # seeding the DLA cluster\n",
    "\n",
    "# time before execution\n",
    "t1 = time.time()\n",
    "\n",
    "# monitor progress - signal attachment of every 10th walker\n",
    "for i in np.arange(N_walkers):\n",
    "    lattice = run_walker(lattice, cluster_maxrad)\n",
    "    if (np.round(i/10)==i/10):\n",
    "        print('Attached walker No. '+str(i))\n",
    "\n",
    "# now we show the final cluster lattice\n",
    "plt.imshow(lattice, cmap='gray',  interpolation='nearest')\n",
    "plt.title('DLA cluster')\n",
    "plt.show()\n",
    "\n",
    "# time after execution\n",
    "t2 = time.time()\n",
    "tt = t2 - t1\n",
    "print(\"Time taken to simulate: \", tt, \"seconds.\")"
   ]
  },
  {
   "cell_type": "code",
   "execution_count": 60,
   "metadata": {},
   "outputs": [
    {
     "name": "stdout",
     "output_type": "stream",
     "text": [
      "Attached walker No. 0\n",
      "Attached walker No. 10\n",
      "Attached walker No. 20\n",
      "Attached walker No. 30\n",
      "Attached walker No. 40\n"
     ]
    },
    {
     "data": {
      "image/png": "[encoded data removed]",
      "text/plain": [
       "<Figure size 432x288 with 1 Axes>"
      ]
     },
     "metadata": {
      "needs_background": "light"
     },
     "output_type": "display_data"
    },
    {
     "name": "stdout",
     "output_type": "stream",
     "text": [
      "Time taken to simulate:  8.012151002883911 seconds.\n"
     ]
    }
   ],
   "source": [
    "N_walkers = 50                    # how many walkers in a cluster\n",
    "L = 100                           # lattice size\n",
    "lattice = np.zeros((L,L))         # the lattice itself\n",
    "cluster_maxrad = 45               # maximum cluster radius\n",
    "lattice[int(L/2), int(L/2)] = 1   # seeding the DLA cluster\n",
    "\n",
    "# time before execution\n",
    "t1 = time.time()\n",
    "\n",
    "# monitor progress - signal attachment of every 10th walker\n",
    "for i in np.arange(N_walkers):\n",
    "    lattice = run_walker(lattice, cluster_maxrad)\n",
    "    if (np.round(i/10)==i/10):\n",
    "        print('Attached walker No. '+str(i))\n",
    "\n",
    "# now we show the final cluster lattice\n",
    "plt.imshow(lattice, cmap='gray',  interpolation='nearest')\n",
    "plt.title('DLA cluster')\n",
    "plt.show()\n",
    "\n",
    "# time after execution\n",
    "t2 = time.time()\n",
    "tt = t2 - t1\n",
    "print(\"Time taken to simulate: \", tt, \"seconds.\")"
   ]
  },
  {
   "cell_type": "markdown",
   "metadata": {},
   "source": [
    "**2. When the number of particles is small vs large** <br>\n",
    "In this case, the shape of the final cluster lattices are compared. When the number of particles is small, it is expected to show smaller size of the cluster lattice. When the number of particles is large, it is expected to show larger size of the cluster lattice, which looks more complicated and mostly with longer branches."
   ]
  },
  {
   "cell_type": "code",
   "execution_count": 66,
   "metadata": {
    "scrolled": false
   },
   "outputs": [
    {
     "name": "stdout",
     "output_type": "stream",
     "text": [
      "Attached walker No. 0\n",
      "Attached walker No. 100\n",
      "Attached walker No. 200\n",
      "Attached walker No. 300\n",
      "Attached walker No. 400\n"
     ]
    },
    {
     "data": {
      "image/png": "[encoded data removed]",
      "text/plain": [
       "<Figure size 432x288 with 1 Axes>"
      ]
     },
     "metadata": {
      "needs_background": "light"
     },
     "output_type": "display_data"
    }
   ],
   "source": [
    "N_walkers = 500                   # how many walkers in a cluster\n",
    "L = 100                           # lattice size\n",
    "lattice = np.zeros((L,L))         # the lattice itself\n",
    "cluster_maxrad = 45               # maximum cluster radius\n",
    "lattice[int(L/2), int(L/2)] = 1   # seeding the DLA cluster\n",
    "\n",
    "# monitor progress - signal attachment of every 10th walker\n",
    "for i in np.arange(N_walkers):\n",
    "    lattice = run_walker(lattice, cluster_maxrad)\n",
    "    if (np.round(i/100)==i/100):\n",
    "        print('Attached walker No. '+str(i))\n",
    "\n",
    "# now we show the final cluster lattice\n",
    "plt.imshow(lattice, cmap='gray',  interpolation='nearest')\n",
    "plt.title('DLA cluster')\n",
    "plt.show()"
   ]
  },
  {
   "cell_type": "code",
   "execution_count": 67,
   "metadata": {},
   "outputs": [
    {
     "name": "stdout",
     "output_type": "stream",
     "text": [
      "Attached walker No. 0\n",
      "Attached walker No. 100\n",
      "Attached walker No. 200\n",
      "Attached walker No. 300\n",
      "Attached walker No. 400\n",
      "Attached walker No. 500\n",
      "Attached walker No. 600\n",
      "Attached walker No. 700\n",
      "Attached walker No. 800\n",
      "Attached walker No. 900\n"
     ]
    },
    {
     "data": {
      "image/png": "[encoded data removed]",
      "text/plain": [
       "<Figure size 432x288 with 1 Axes>"
      ]
     },
     "metadata": {
      "needs_background": "light"
     },
     "output_type": "display_data"
    }
   ],
   "source": [
    "N_walkers = 1000                   # how many walkers in a cluster\n",
    "L = 100                           # lattice size\n",
    "lattice = np.zeros((L,L))         # the lattice itself\n",
    "cluster_maxrad = 45               # maximum cluster radius\n",
    "lattice[int(L/2), int(L/2)] = 1   # seeding the DLA cluster\n",
    "\n",
    "# monitor progress - signal attachment of every 10th walker\n",
    "for i in np.arange(N_walkers):\n",
    "    lattice = run_walker(lattice, cluster_maxrad)\n",
    "    if (np.round(i/100)==i/100):\n",
    "        print('Attached walker No. '+str(i))\n",
    "\n",
    "# now we show the final cluster lattice\n",
    "plt.imshow(lattice, cmap='gray',  interpolation='nearest')\n",
    "plt.title('DLA cluster')\n",
    "plt.show()"
   ]
  },
  {
   "cell_type": "markdown",
   "metadata": {},
   "source": [
    "### Discussion\n",
    "#### Power Law"
   ]
  },
  {
   "cell_type": "code",
   "execution_count": 330,
   "metadata": {
    "scrolled": false
   },
   "outputs": [],
   "source": [
    "N_walkers = 100                   # how many walkers in a cluster\n",
    "L = 100                           # lattice size\n",
    "lattice = np.zeros((L,L))         # the lattice itself\n",
    "cluster_maxrad = 45               # maximum cluster radius\n",
    "lattice[int(L/2), int(L/2)] = 1   # seeding the DLA cluster\n",
    "hor_max = []\n",
    "dif_arr = []\n",
    "par_arr = []"
   ]
  },
  {
   "cell_type": "code",
   "execution_count": 331,
   "metadata": {
    "scrolled": false
   },
   "outputs": [],
   "source": [
    "for i in range(N_walkers):\n",
    "    lattice = run_walker(lattice, cluster_maxrad)\n",
    "    for j in range(L):\n",
    "        for k in range(L):\n",
    "            if (lattice[j][k] == 1):\n",
    "                hor_max.append(k)\n",
    "        if(len(hor_max) != 0):\n",
    "            diff = np.amax(hor_max) - np.amin(hor_max)\n",
    "            dif_arr.append(diff)\n",
    "            par = np.amax(dif_arr)\n",
    "        hor_max = []\n",
    "    dif_arr = []\n",
    "    par_arr.append(par)"
   ]
  },
  {
   "cell_type": "code",
   "execution_count": 332,
   "metadata": {},
   "outputs": [
    {
     "data": {
      "image/png": "[encoded data removed]",
      "text/plain": [
       "<Figure size 432x288 with 1 Axes>"
      ]
     },
     "metadata": {
      "needs_background": "light"
     },
     "output_type": "display_data"
    }
   ],
   "source": [
    "arr = np.arange(0,len(par_arr))\n",
    "plt.scatter(arr, par_arr)\n",
    "plt.xlabel(\"Number of Particles\")\n",
    "plt.ylabel(\"Horizontal Extent of the Cluster\")\n",
    "plt.title(\"Max Horizontal Extent vs Number of Attachment\")\n",
    "plt.show()"
   ]
  },
  {
   "cell_type": "markdown",
   "metadata": {},
   "source": [
    "### Discussion\n",
    "As presented above, I simulated DLA process with the implemented model and found a power rule that fits the maximum horizontal diameter of the cluster with respect to the number of attached particles. Above in the graph, the maximum horizontal diameter exponentially increases as the number of attached particles increases. However, the model has a limitation since the particles are designed to be created from the certain distance away from the maximum cluster size. Thus, in order to simulate the nature where some particles are displaced infinitely away from the cluster, scaling such distance with varying cluster's radius would improve the model. This could not be implemented in this project as the time taken to execute whole codes was long."
   ]
  }
 ],
 "metadata": {
  "kernelspec": {
   "display_name": "Python 3",
   "language": "python",
   "name": "python3"
  },
  "language_info": {
   "codemirror_mode": {
    "name": "ipython",
    "version": 3
   },
   "file_extension": ".py",
   "mimetype": "text/x-python",
   "name": "python",
   "nbconvert_exporter": "python",
   "pygments_lexer": "ipython3",
   "version": "3.7.6"
  }
 },
 "nbformat": 4,
 "nbformat_minor": 2
}
